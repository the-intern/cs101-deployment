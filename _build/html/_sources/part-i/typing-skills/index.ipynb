{
 "cells": [
  {
   "cell_type": "markdown",
   "id": "2660ad12",
   "metadata": {},
   "source": [
    "# Coding is Manual Labor\n",
    "\n",
    "```{admonition} Coding is Tactile\n",
    ":class: tip\n",
    "\n",
    "What the hand does the mind remembers. - __Maria Montessori__\n",
    "\n",
    "```\n",
    "\n",
    "This is essentially the typewriter I purchased in high school and used then, through college, and beyond.\n",
    "\n",
    "![typewriter](assets/images/typewriter.jpeg)\n",
    "\n",
    "Many my age or just younger will recall the purchase of a Commodore or Apple in the very early days of personal computing in the 1980s.  I had no such luck.\n",
    "\n",
    "But what I lacked in access to 'technology' I, in some ways, made up for by learning to type and type fast.\n",
    "\n",
    "```{tip} In coding, keyboarding, i.e., the manual effort to put code to text, is, for most mere mortals, an essential skill.\n",
    "\n",
    "That is, you may not think it important, but it makes a gargantuan difference in your coding work.\n",
    "```\n",
    "\n",
    "You'll often hear the term __source code__.\n",
    "\n",
    "That's the code you, the programmer, must write/type.  You'll be doing a __lot__ of that.  So much so that the ability to code without having to look at the keyboard or hunt and peck with just any finger that's available will take away just another frustration of the process.\n",
    "\n",
    "The benefit of learning the basic finger:key mappings is one you cannot appreciate until you have both a great deal to do and poor keyboarding skills.\n",
    "\n",
    "When you can type and type well, you'll be less hesitant to test and re-test coding tests, drills, experiments, whatever.\n",
    "\n",
    "Moreover, coding is a __manual__ labor as much as it is a mental one.\n",
    "\n",
    "You learn by your tactile sense as well as your sense of design and your aptitude for problem-solving.\n",
    "\n",
    "__Learn to type properly.__"
   ]
  }
 ],
 "metadata": {
  "jupytext": {
   "formats": "md:myst",
   "text_representation": {
    "extension": ".md",
    "format_name": "myst"
   }
  },
  "kernelspec": {
   "display_name": "Python 3",
   "language": "python",
   "name": "python3"
  },
  "language_info": {
   "codemirror_mode": {
    "name": "ipython",
    "version": 3
   },
   "file_extension": ".py",
   "mimetype": "text/x-python",
   "name": "python",
   "nbconvert_exporter": "python",
   "pygments_lexer": "ipython3",
   "version": "3.10.5"
  },
  "source_map": [
   11
  ]
 },
 "nbformat": 4,
 "nbformat_minor": 5
}