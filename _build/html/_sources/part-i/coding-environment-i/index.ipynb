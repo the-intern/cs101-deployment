{
 "cells": [
  {
   "cell_type": "markdown",
   "id": "4e8ca43a",
   "metadata": {},
   "source": [
    "# Coding Environment - the `r e p l`\n",
    "\n",
    "<div>\n",
    "<iframe src=\"https://trinket.io/embed/python3/ced4e3b1b3?outputOnly=true&runMode=console\" width=\"100%\" height=\"356\" frameborder=\"0\" marginwidth=\"0\" marginheight=\"0\" allowfullscreen></iframe>\n",
    "</div>"
   ]
  }
 ],
 "metadata": {
  "jupytext": {
   "formats": "md:myst",
   "text_representation": {
    "extension": ".md",
    "format_name": "myst"
   }
  },
  "kernelspec": {
   "display_name": "Python 3",
   "language": "python",
   "name": "python3"
  },
  "language_info": {
   "codemirror_mode": {
    "name": "ipython",
    "version": 3
   },
   "file_extension": ".py",
   "mimetype": "text/x-python",
   "name": "python",
   "nbconvert_exporter": "python",
   "pygments_lexer": "ipython3",
   "version": "3.10.5"
  },
  "source_map": [
   11
  ]
 },
 "nbformat": 4,
 "nbformat_minor": 5
}