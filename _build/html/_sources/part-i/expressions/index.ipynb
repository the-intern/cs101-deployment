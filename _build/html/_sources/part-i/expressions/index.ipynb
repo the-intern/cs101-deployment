{
 "cells": [
  {
   "cell_type": "markdown",
   "id": "1f0cad88-7e7a-4aeb-87b3-82a260b09ba8",
   "metadata": {},
   "source": [
    "# Expressions and Math"
   ]
  },
  {
   "cell_type": "code",
   "execution_count": null,
   "id": "05c69772-d532-4c48-a416-32831f3eaedc",
   "metadata": {},
   "outputs": [],
   "source": []
  }
 ],
 "metadata": {
  "kernelspec": {
   "display_name": "Python 3 (ipykernel)",
   "language": "python",
   "name": "python3"
  },
  "language_info": {
   "codemirror_mode": {
    "name": "ipython",
    "version": 3
   },
   "file_extension": ".py",
   "mimetype": "text/x-python",
   "name": "python",
   "nbconvert_exporter": "python",
   "pygments_lexer": "ipython3",
   "version": "3.8.13"
  }
 },
 "nbformat": 4,
 "nbformat_minor": 5
}
