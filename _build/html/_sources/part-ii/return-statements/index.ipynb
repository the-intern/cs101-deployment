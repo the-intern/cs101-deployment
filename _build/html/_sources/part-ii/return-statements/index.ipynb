{
 "cells": [
  {
   "cell_type": "markdown",
   "id": "ab495968-e660-4c80-98e9-7ceaec5ca92f",
   "metadata": {},
   "source": [
    "# Return Statements"
   ]
  },
  {
   "cell_type": "code",
   "execution_count": null,
   "id": "b03d7564-1120-4682-84ea-bb3bdc9673cf",
   "metadata": {},
   "outputs": [],
   "source": []
  }
 ],
 "metadata": {
  "kernelspec": {
   "display_name": "Python 3 (ipykernel)",
   "language": "python",
   "name": "python3"
  },
  "language_info": {
   "codemirror_mode": {
    "name": "ipython",
    "version": 3
   },
   "file_extension": ".py",
   "mimetype": "text/x-python",
   "name": "python",
   "nbconvert_exporter": "python",
   "pygments_lexer": "ipython3",
   "version": "3.8.13"
  }
 },
 "nbformat": 4,
 "nbformat_minor": 5
}
