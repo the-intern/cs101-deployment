{
 "cells": [
  {
   "cell_type": "markdown",
   "id": "4714cabb",
   "metadata": {},
   "source": [
    "# CS 101 - An Introduction to Programming in Python\n",
    "\n",
    "This is a tour through coding in Python by means of the first elements of computer science. More particular objectives are\n",
    "\n",
    "- to learn the syntax and the use of the Python programming language\n",
    "- to learn some of the tools that come with Python's basic features\n",
    "- to improve problem-solving skills\n",
    "\n",
    "But, to give this effort some focus, in addtion we will build a web _search engine_."
   ]
  }
 ],
 "metadata": {
  "jupytext": {
   "formats": "md:myst",
   "text_representation": {
    "extension": ".md",
    "format_name": "myst"
   }
  },
  "kernelspec": {
   "display_name": "Python 3",
   "language": "python",
   "name": "python3"
  },
  "language_info": {
   "codemirror_mode": {
    "name": "ipython",
    "version": 3
   },
   "file_extension": ".py",
   "mimetype": "text/x-python",
   "name": "python",
   "nbconvert_exporter": "python",
   "pygments_lexer": "ipython3",
   "version": "3.10.5"
  },
  "source_map": [
   11
  ]
 },
 "nbformat": 4,
 "nbformat_minor": 5
}