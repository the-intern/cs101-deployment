{
 "cells": [
  {
   "cell_type": "markdown",
   "id": "128462c9-7d74-4214-b902-dd51893a0598",
   "metadata": {},
   "source": [
    "# Placeholder Page One"
   ]
  },
  {
   "cell_type": "code",
   "execution_count": null,
   "id": "eee9b881-9118-4559-912d-02fad41a15a3",
   "metadata": {},
   "outputs": [],
   "source": []
  }
 ],
 "metadata": {
  "kernelspec": {
   "display_name": "Python 3 (ipykernel)",
   "language": "python",
   "name": "python3"
  },
  "language_info": {
   "codemirror_mode": {
    "name": "ipython",
    "version": 3
   },
   "file_extension": ".py",
   "mimetype": "text/x-python",
   "name": "python",
   "nbconvert_exporter": "python",
   "pygments_lexer": "ipython3",
   "version": "3.8.13"
  }
 },
 "nbformat": 4,
 "nbformat_minor": 5
}
