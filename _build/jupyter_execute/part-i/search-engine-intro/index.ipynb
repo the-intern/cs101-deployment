{
 "cells": [
  {
   "cell_type": "markdown",
   "id": "cf25a021-e217-44b6-9aff-c75be5812a00",
   "metadata": {},
   "source": [
    "# What is a _Search Engine_ ?"
   ]
  },
  {
   "cell_type": "markdown",
   "id": "cd82edb5-7938-4e15-ae49-631c41227524",
   "metadata": {},
   "source": [
    "![search engine](assets/images/searchengine.png)"
   ]
  },
  {
   "cell_type": "markdown",
   "id": "677b8fc3",
   "metadata": {},
   "source": []
  }
 ],
 "metadata": {
  "kernelspec": {
   "display_name": "Python 3 (ipykernel)",
   "language": "python",
   "name": "python3"
  },
  "language_info": {
   "codemirror_mode": {
    "name": "ipython",
    "version": 3
   },
   "file_extension": ".py",
   "mimetype": "text/x-python",
   "name": "python",
   "nbconvert_exporter": "python",
   "pygments_lexer": "ipython3",
   "version": "3.10.5"
  }
 },
 "nbformat": 4,
 "nbformat_minor": 5
}