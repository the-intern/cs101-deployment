{
 "cells": [
  {
   "cell_type": "markdown",
   "id": "5e2321c5",
   "metadata": {},
   "source": [
    "# Introduction\n",
    "\n",
    "```{admonition} Begin at the End\n",
    ":class: tip\n",
    "\n",
    "___Every art, and every science ... and  ... every action and moral choice, aims, it is thought, at some good: for which reason a common and by no means a bad description of the Chief Good is, that towards which all things aim.___\n",
    "\n",
    "Aristotle\n",
    "\n",
    "```\n",
    "\n",
    "As with just about everything else in life, pursuing without a purpose is just that.\n",
    "\n",
    "Learning a programming language and how you do anything with it is no different.\n",
    "\n",
    "So here, among other goals, we will build a web search engine.\n",
    "\n",
    "![search bar](searchbar.png)\n",
    "\n",
    "We will take it step by step and, along the way, learn something about computer science."
   ]
  }
 ],
 "metadata": {
  "jupytext": {
   "formats": "md:myst",
   "text_representation": {
    "extension": ".md",
    "format_name": "myst"
   }
  },
  "kernelspec": {
   "display_name": "Python 3",
   "language": "python",
   "name": "python3"
  },
  "source_map": [
   11
  ]
 },
 "nbformat": 4,
 "nbformat_minor": 5
}