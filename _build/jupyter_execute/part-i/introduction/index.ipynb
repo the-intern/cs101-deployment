{
 "cells": [
  {
   "cell_type": "markdown",
   "id": "9cb4da30",
   "metadata": {},
   "source": [
    "# Getting Started\n",
    "\n",
    "\n",
    "```{admonition} Programming is Problem Solving\n",
    "\n",
    "_God made the angels to show Him splendor, ... animals for innocence, and plants for their simplicity. But Man He made to serve Him wittily, in the tangle of his mind._  __Sir Thomas More, Man for All Seasons__\n",
    "```\n",
    "\n",
    "This beginning course in programming, sometimes called _coding_, comes with the three goals mentioned earlier.\n",
    "\n",
    "The _means_ by which these will be achieved vary, from exercises to quizzes to small projects to the much larger one of building a search engine that crawls the web, indexes pages, and returns ranked results of any given search.\n",
    "\n",
    "Along the way, and because the web is part of the over arching project, we will touch on the workings of the web, networks, and perhaps even some of the __collective intelligence__ that the internet offers.\n",
    "\n",
    "But whatever the particulars of any given computer programming, computer science, or coding curriculum, the very core is how to solve problems »»» how to break down (i.e., analyze) the issues, assemble the means by which to solve these, and put those means together in such a fashion that program both solves the problem and is reasonably efficient.\n",
    "\n",
    "For example, the project to build a search engine can be broken down into three large steps:\n",
    "\n",
    "1. retrieve the data from the internet\n",
    "2. build an index of the sites discovered\n",
    "3. return pages ranked by their relevance\n",
    "\n",
    "![problem-solving](assets/images/problem-solving.png)\n",
    "\n",
    "Of course, each of these three larger steps require smaller, sub-steps.  But the process is always the same: analyze, solve, synthesize.\n",
    "\n",
    "And we'll get into all of that.\n",
    "\n",
    "But first, _what is_ a _search engine_?"
   ]
  }
 ],
 "metadata": {
  "jupytext": {
   "formats": "md:myst",
   "text_representation": {
    "extension": ".md",
    "format_name": "myst"
   }
  },
  "kernelspec": {
   "display_name": "Python 3",
   "language": "python",
   "name": "python3"
  },
  "language_info": {
   "codemirror_mode": {
    "name": "ipython",
    "version": 3
   },
   "file_extension": ".py",
   "mimetype": "text/x-python",
   "name": "python",
   "nbconvert_exporter": "python",
   "pygments_lexer": "ipython3",
   "version": "3.10.5"
  },
  "source_map": [
   11
  ]
 },
 "nbformat": 4,
 "nbformat_minor": 5
}